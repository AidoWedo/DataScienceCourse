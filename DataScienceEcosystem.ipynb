{
 "cells": [
  {
   "cell_type": "markdown",
   "id": "3b1b8012-444f-4ac9-9d34-7308a1e1d9e6",
   "metadata": {},
   "source": [
    "# Data Science Tools and Ecosystem"
   ]
  },
  {
   "cell_type": "markdown",
   "id": "68e4f9ec-29d3-452c-b4b3-8b5f04a8a4db",
   "metadata": {},
   "source": [
    "In this notebook, Data Science Tools and Ecosystems are summarised.\n"
   ]
  },
  {
   "cell_type": "markdown",
   "id": "8030d64c-f057-4869-a735-13ab9994dc47",
   "metadata": {},
   "source": [
    "Some of the popular languages that Data Scientists use are:\n",
    "\n",
    "1. Python\n",
    "2. R\n",
    "3. SQL\n",
    "4. Julia\n"
   ]
  },
  {
   "cell_type": "markdown",
   "id": "a3a3d5a5-577c-48ed-a9b4-7a85bc441e2d",
   "metadata": {},
   "source": [
    "Some of the commonly used libraries used by Data Scientists include:\n",
    "\n",
    "1. NumPy\n",
    "2. pandas\n",
    "3. scikit-learn\n",
    "4. TensorFlow\n",
    "5. Matplotlib\n",
    "6. ggplot\n"
   ]
  },
  {
   "cell_type": "markdown",
   "id": "47068e02-6499-408f-a37d-bb57e17569bc",
   "metadata": {},
   "source": [
    "| Data Science Tools            |\n",
    "|-------------------------------|\n",
    "| Jupyter Notebook              |\n",
    "| RStudio                       |\n",
    "| Apache Zeppelin               |\n"
   ]
  },
  {
   "cell_type": "markdown",
   "id": "3d70c3f9-6f04-4e18-94a4-b3cdef4d2bc7",
   "metadata": {},
   "source": [
    "### Below are a few examples of evaluating arithmetic expressions in Python\n"
   ]
  },
  {
   "cell_type": "code",
   "execution_count": 4,
   "id": "2c0ca26e-f363-43ac-9043-397526ed6126",
   "metadata": {},
   "outputs": [
    {
     "data": {
      "text/plain": [
       "17"
      ]
     },
     "execution_count": 4,
     "metadata": {},
     "output_type": "execute_result"
    }
   ],
   "source": [
    "(3*4)+5\n",
    "# This is a simple arithmetic expression to multiply then add integers"
   ]
  },
  {
   "cell_type": "code",
   "execution_count": 5,
   "id": "5193d816-3453-46bf-8540-f52b817354a2",
   "metadata": {},
   "outputs": [
    {
     "data": {
      "text/plain": [
       "3.3333333333333335"
      ]
     },
     "execution_count": 5,
     "metadata": {},
     "output_type": "execute_result"
    }
   ],
   "source": [
    "(200 / 60)\n",
    "# This will convert 200 minutes to hours by diving by 60"
   ]
  },
  {
   "cell_type": "markdown",
   "id": "e9dd1e80-6d6f-49dd-ab59-64a98f5c78c5",
   "metadata": {},
   "source": [
    "**Objectives:**\n",
    "- Python\n",
    "- R\n",
    "- SQL\n",
    "- Julia\n",
    "- Java\n",
    "- Scala\n",
    "- MATLAB\n"
   ]
  },
  {
   "cell_type": "markdown",
   "id": "e11ae4e0-3a6f-4294-9bac-38443d7cfe0b",
   "metadata": {},
   "source": [
    "## Author ##\n",
    "name"
   ]
  },
  {
   "cell_type": "code",
   "execution_count": null,
   "id": "7acb0361-2e75-46e3-8d65-c144393cf295",
   "metadata": {},
   "outputs": [],
   "source": []
  }
 ],
 "metadata": {
  "kernelspec": {
   "display_name": "Python 3 (ipykernel)",
   "language": "python",
   "name": "python3"
  },
  "language_info": {
   "codemirror_mode": {
    "name": "ipython",
    "version": 3
   },
   "file_extension": ".py",
   "mimetype": "text/x-python",
   "name": "python",
   "nbconvert_exporter": "python",
   "pygments_lexer": "ipython3",
   "version": "3.12.1"
  }
 },
 "nbformat": 4,
 "nbformat_minor": 5
}
